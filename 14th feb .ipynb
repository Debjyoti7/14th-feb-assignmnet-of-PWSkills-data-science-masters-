{
 "cells": [
  {
   "cell_type": "markdown",
   "id": "df8cb3f4-d1e9-41ec-89bf-3dcb3ca9241f",
   "metadata": {},
   "source": [
    "# Q1. What is multithreading in python? Why is it used? Name the module used to handle threads in python"
   ]
  },
  {
   "cell_type": "markdown",
   "id": "8f14058b-881e-43d6-a913-f7cbc0c60841",
   "metadata": {},
   "source": [
    "# Multithreading in Python is a way of programming where multiple threads of execution are created within a single process. Each thread can run concurrently and perform a separate task, allowing a program to do multiple things at once."
   ]
  },
  {
   "cell_type": "markdown",
   "id": "f766e4ff-16d6-4d17-8891-2767a892ccf4",
   "metadata": {},
   "source": [
    "# Multithreading is used in Python to improve the performance of programs by allowing them to perform multiple tasks simultaneously. This is especially useful for I/O-bound tasks, such as reading or writing to a file or a network socket, which can cause a program to block while waiting for the operation to complete. By using multiple threads, a program can continue to run while waiting for I/O operations to complete, improving its overall efficiency and responsiveness."
   ]
  },
  {
   "cell_type": "markdown",
   "id": "76fac1b6-a80c-4bf7-ae40-2f6f92df60f3",
   "metadata": {},
   "source": [
    "# The threading module is used to handle threads in Python."
   ]
  },
  {
   "cell_type": "markdown",
   "id": "8e3c956b-11ef-4155-b72e-a5db8f359c56",
   "metadata": {},
   "source": [
    "# Q2. Why threading module used? rite the use of the following functions\n",
    "# 1. activeCount()\n",
    "# 2. currentThread()\n",
    "# 3. enumerate()"
   ]
  },
  {
   "cell_type": "markdown",
   "id": "9b7ce5dd-73e4-46ac-97f3-8558e8dc844e",
   "metadata": {},
   "source": [
    "# The threading module in Python is used for creating, managing, and working with threads within a program. It provides a simple and efficient way of working with threads, allowing for parallel execution of tasks within a program."
   ]
  },
  {
   "cell_type": "markdown",
   "id": "ce72a860-dba2-4a89-be97-41cfdc1982f4",
   "metadata": {},
   "source": [
    "# activeCount(): This function returns the number of thread objects that are currently active. This can be useful for monitoring the number of threads in a program and detecting any potential threading issues such as excessive thread creation or thread leaks."
   ]
  },
  {
   "cell_type": "markdown",
   "id": "ddc80b55-a327-4aa2-997e-02c703560f90",
   "metadata": {},
   "source": [
    "# currentThread(): This function returns a reference to the current thread object that the function is being called from. This can be useful for identifying the current thread and performing actions specific to that thread, such as setting thread-local variables or checking thread state."
   ]
  },
  {
   "cell_type": "markdown",
   "id": "6e4adf71-9d4e-4ebc-93fc-1ce2fe453aa3",
   "metadata": {},
   "source": [
    "# enumerate(): This function returns a list of all thread objects that are currently active. This can be useful for monitoring the status of all threads within a program and identifying any threads that may be stuck or blocking. The enumerate() function can also be used to filter the list of threads returned based on specific criteria, such as only returning threads with a specific name or thread state."
   ]
  },
  {
   "cell_type": "markdown",
   "id": "8cff722f-e100-41d6-9407-5cc536bf53f9",
   "metadata": {},
   "source": [
    "# Q3.Explain the following functions\n",
    "# 1. run()\n",
    "# 2. start()\n",
    "# 3.join()\n",
    "# 4. isAlive()"
   ]
  },
  {
   "cell_type": "markdown",
   "id": "b29e017b-62f9-493f-8fdb-b7f35b4452d7",
   "metadata": {},
   "source": [
    "## 1. run(): The run() function is called when a thread is started using the start() method. This function defines the code that will be executed by the thread. If you're using the Thread class to create a new thread, you should subclass it and define the code to be executed in the run() method."
   ]
  },
  {
   "cell_type": "markdown",
   "id": "7385a758-4826-46a7-978b-a9e0af1fcb8a",
   "metadata": {},
   "source": [
    "## 2. start(): The start() method is used to start a new thread of execution. When this method is called, the run() method of the thread is executed in a separate thread of control. The start() method should only be called once for each thread object. If the thread is already running or has already completed, calling start() will have no effect."
   ]
  },
  {
   "cell_type": "markdown",
   "id": "69608c77-9033-43c0-b62d-5605f9a28680",
   "metadata": {},
   "source": [
    "## 3. join(): The join() method is used to wait for a thread to complete before continuing with the main thread. This method blocks the calling thread until the thread being joined has completed. The join() method can also be called with a timeout value, which will cause the calling thread to wait for the specified number of seconds for the thread being joined to complete."
   ]
  },
  {
   "cell_type": "markdown",
   "id": "30f0c569-819d-4c24-9268-1b4900d164e9",
   "metadata": {},
   "source": [
    "## 4. isAlive(): The isAlive() method is used to check whether a thread is currently executing or has completed. If the thread is still executing, this method will return True. If the thread has completed or has not been started, this method will return False. The isAlive() method can be useful for monitoring the status of a thread and determining whether it is safe to perform certain operations, such as calling join()."
   ]
  },
  {
   "cell_type": "markdown",
   "id": "50d90197-d011-438d-ae46-3847bbcc3c92",
   "metadata": {},
   "source": [
    "# Q4. Write a python program to create two threads. Thread one must print the list of squares and thread two must print the list of cubes."
   ]
  },
  {
   "cell_type": "code",
   "execution_count": 2,
   "id": "23fd9dd2-88a7-4528-adde-cda0f1befff2",
   "metadata": {},
   "outputs": [
    {
     "name": "stdout",
     "output_type": "stream",
     "text": [
      "Square of 1 is 1\n",
      "Square of 2 is 4\n",
      "Square of 3 is 9\n",
      "Square of 4 is 16\n",
      "Square of 5 is 25\n",
      "Cube of 1 is 1\n",
      "Cube of 2 is 8\n",
      "Cube of 3 is 27\n",
      "Cube of 4 is 64\n",
      "Cube of 5 is 125\n",
      "Done.\n"
     ]
    }
   ],
   "source": [
    "import threading\n",
    "\n",
    "# Function to print the list of squares\n",
    "def print_squares():\n",
    "    for i in range(1, 6):\n",
    "        print(f\"Square of {i} is {i**2}\")\n",
    "\n",
    "# Function to print the list of cubes\n",
    "def print_cubes():\n",
    "    for i in range(1, 6):\n",
    "        print(f\"Cube of {i} is {i**3}\")\n",
    "\n",
    "# Create two threads\n",
    "t1 = threading.Thread(target=print_squares)\n",
    "t2 = threading.Thread(target=print_cubes)\n",
    "\n",
    "# Start both threads\n",
    "t1.start()\n",
    "t2.start()\n",
    "\n",
    "# Wait for both threads to complete\n",
    "t1.join()\n",
    "t2.join()\n",
    "\n",
    "print(\"Done.\")\n"
   ]
  },
  {
   "cell_type": "markdown",
   "id": "e02f1686-d2cf-4214-a496-f6e7a2f065fd",
   "metadata": {},
   "source": [
    "# Q5. State advantages and disadvantages of multithreading."
   ]
  },
  {
   "cell_type": "markdown",
   "id": "55e03a60-7bc9-4db8-9de9-8728634e50f1",
   "metadata": {},
   "source": [
    "# Advantages:\n",
    "\n",
    "## 1. Improved performance: Multithreading can improve the performance of a program by allowing multiple tasks to be executed simultaneously.\n",
    "\n",
    "## 2. Responsiveness: Multithreading can keep a program responsive by allowing a user interface thread to remain active while other threads perform background tasks.\n",
    "\n",
    "## 3. Resource sharing: Multithreading can allow multiple threads to share resources, such as memory, network connections, and file handles, which can reduce the amount of memory and processing power required by a program.\n",
    "\n",
    "## 4.Simplified design: Multithreading can simplify the design of a program by allowing complex tasks to be divided into smaller, more manageable units."
   ]
  },
  {
   "cell_type": "markdown",
   "id": "97182f66-e963-4bfa-96f7-54265f75f0c7",
   "metadata": {},
   "source": [
    "# Disadvantages:\n",
    "\n",
    "## 1. Synchronization issues: Multithreading can introduce synchronization issues, such as race conditions and deadlocks, which can be difficult to debug and resolve.\n",
    "\n",
    "## 2. Overhead: Multithreading can introduce overhead in the form of context switching, which can reduce performance and increase memory usage.\n",
    "\n",
    "## 3. Complexity: Multithreading can make a program more complex and difficult to understand, which can make debugging and maintenance more challenging.\n",
    "\n",
    "## 4. Scalability limitations: Multithreading can have scalability limitations due to factors such as the number of available CPU cores and memory constraints."
   ]
  },
  {
   "cell_type": "markdown",
   "id": "03a723a9-b401-4dd6-b8d2-9cd829a301a0",
   "metadata": {},
   "source": [
    "# Q6. Explain deadlocks and race conditions."
   ]
  },
  {
   "cell_type": "code",
   "execution_count": null,
   "id": "7870c3fc-fa81-4d9d-ba6a-c3a11ff6c6a8",
   "metadata": {},
   "outputs": [],
   "source": [
    "# Deadlocks:\n",
    "A deadlock occurs when two or more threads are blocked, waiting for each other to release a resource that they need to continue their execution. This can result in a situation where none of the threads can make any progress, and the program appears to be stuck."
   ]
  }
 ],
 "metadata": {
  "kernelspec": {
   "display_name": "Python 3 (ipykernel)",
   "language": "python",
   "name": "python3"
  },
  "language_info": {
   "codemirror_mode": {
    "name": "ipython",
    "version": 3
   },
   "file_extension": ".py",
   "mimetype": "text/x-python",
   "name": "python",
   "nbconvert_exporter": "python",
   "pygments_lexer": "ipython3",
   "version": "3.10.8"
  }
 },
 "nbformat": 4,
 "nbformat_minor": 5
}
